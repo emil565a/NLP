{
  "nbformat": 4,
  "nbformat_minor": 0,
  "metadata": {
    "colab": {
      "provenance": [],
      "gpuType": "T4",
      "collapsed_sections": [
        "7hM27ogBQOzy"
      ],
      "include_colab_link": true
    },
    "kernelspec": {
      "name": "python3",
      "display_name": "Python 3"
    },
    "language_info": {
      "name": "python"
    },
    "accelerator": "GPU",
    "widgets": {
      "application/vnd.jupyter.widget-state+json": {
        "ebd7767ff98c4b86a74cc989f3690617": {
          "model_module": "@jupyter-widgets/controls",
          "model_name": "HBoxModel",
          "model_module_version": "1.5.0",
          "state": {
            "_dom_classes": [],
            "_model_module": "@jupyter-widgets/controls",
            "_model_module_version": "1.5.0",
            "_model_name": "HBoxModel",
            "_view_count": null,
            "_view_module": "@jupyter-widgets/controls",
            "_view_module_version": "1.5.0",
            "_view_name": "HBoxView",
            "box_style": "",
            "children": [
              "IPY_MODEL_157a9b3873574302839e2a48fc12edf6",
              "IPY_MODEL_827f7885ba7f4fc29fba41ccbabb6409",
              "IPY_MODEL_fe6d61ddc582411d9eabfac6b454c1ac"
            ],
            "layout": "IPY_MODEL_61d2c7062e6242fa873d3c50803a7678"
          }
        },
        "157a9b3873574302839e2a48fc12edf6": {
          "model_module": "@jupyter-widgets/controls",
          "model_name": "HTMLModel",
          "model_module_version": "1.5.0",
          "state": {
            "_dom_classes": [],
            "_model_module": "@jupyter-widgets/controls",
            "_model_module_version": "1.5.0",
            "_model_name": "HTMLModel",
            "_view_count": null,
            "_view_module": "@jupyter-widgets/controls",
            "_view_module_version": "1.5.0",
            "_view_name": "HTMLView",
            "description": "",
            "description_tooltip": null,
            "layout": "IPY_MODEL_a88a763b740c4904a8bb682cff44813e",
            "placeholder": "​",
            "style": "IPY_MODEL_808af2b9eb9f447885909d78d9197699",
            "value": "Map:  88%"
          }
        },
        "827f7885ba7f4fc29fba41ccbabb6409": {
          "model_module": "@jupyter-widgets/controls",
          "model_name": "FloatProgressModel",
          "model_module_version": "1.5.0",
          "state": {
            "_dom_classes": [],
            "_model_module": "@jupyter-widgets/controls",
            "_model_module_version": "1.5.0",
            "_model_name": "FloatProgressModel",
            "_view_count": null,
            "_view_module": "@jupyter-widgets/controls",
            "_view_module_version": "1.5.0",
            "_view_name": "ProgressView",
            "bar_style": "",
            "description": "",
            "description_tooltip": null,
            "layout": "IPY_MODEL_34ee7da08af446e880b1fc20dd521a2e",
            "max": 29598,
            "min": 0,
            "orientation": "horizontal",
            "style": "IPY_MODEL_e2965f4e3b094dd4882791275802fe18",
            "value": 26000
          }
        },
        "fe6d61ddc582411d9eabfac6b454c1ac": {
          "model_module": "@jupyter-widgets/controls",
          "model_name": "HTMLModel",
          "model_module_version": "1.5.0",
          "state": {
            "_dom_classes": [],
            "_model_module": "@jupyter-widgets/controls",
            "_model_module_version": "1.5.0",
            "_model_name": "HTMLModel",
            "_view_count": null,
            "_view_module": "@jupyter-widgets/controls",
            "_view_module_version": "1.5.0",
            "_view_name": "HTMLView",
            "description": "",
            "description_tooltip": null,
            "layout": "IPY_MODEL_dc9daf8dbc2a4226ad54c52c35273690",
            "placeholder": "​",
            "style": "IPY_MODEL_2732d6ae09984c6fa13b66222d600cd3",
            "value": " 26000/29598 [00:23&lt;00:03, 1165.36 examples/s]"
          }
        },
        "61d2c7062e6242fa873d3c50803a7678": {
          "model_module": "@jupyter-widgets/base",
          "model_name": "LayoutModel",
          "model_module_version": "1.2.0",
          "state": {
            "_model_module": "@jupyter-widgets/base",
            "_model_module_version": "1.2.0",
            "_model_name": "LayoutModel",
            "_view_count": null,
            "_view_module": "@jupyter-widgets/base",
            "_view_module_version": "1.2.0",
            "_view_name": "LayoutView",
            "align_content": null,
            "align_items": null,
            "align_self": null,
            "border": null,
            "bottom": null,
            "display": null,
            "flex": null,
            "flex_flow": null,
            "grid_area": null,
            "grid_auto_columns": null,
            "grid_auto_flow": null,
            "grid_auto_rows": null,
            "grid_column": null,
            "grid_gap": null,
            "grid_row": null,
            "grid_template_areas": null,
            "grid_template_columns": null,
            "grid_template_rows": null,
            "height": null,
            "justify_content": null,
            "justify_items": null,
            "left": null,
            "margin": null,
            "max_height": null,
            "max_width": null,
            "min_height": null,
            "min_width": null,
            "object_fit": null,
            "object_position": null,
            "order": null,
            "overflow": null,
            "overflow_x": null,
            "overflow_y": null,
            "padding": null,
            "right": null,
            "top": null,
            "visibility": null,
            "width": null
          }
        },
        "a88a763b740c4904a8bb682cff44813e": {
          "model_module": "@jupyter-widgets/base",
          "model_name": "LayoutModel",
          "model_module_version": "1.2.0",
          "state": {
            "_model_module": "@jupyter-widgets/base",
            "_model_module_version": "1.2.0",
            "_model_name": "LayoutModel",
            "_view_count": null,
            "_view_module": "@jupyter-widgets/base",
            "_view_module_version": "1.2.0",
            "_view_name": "LayoutView",
            "align_content": null,
            "align_items": null,
            "align_self": null,
            "border": null,
            "bottom": null,
            "display": null,
            "flex": null,
            "flex_flow": null,
            "grid_area": null,
            "grid_auto_columns": null,
            "grid_auto_flow": null,
            "grid_auto_rows": null,
            "grid_column": null,
            "grid_gap": null,
            "grid_row": null,
            "grid_template_areas": null,
            "grid_template_columns": null,
            "grid_template_rows": null,
            "height": null,
            "justify_content": null,
            "justify_items": null,
            "left": null,
            "margin": null,
            "max_height": null,
            "max_width": null,
            "min_height": null,
            "min_width": null,
            "object_fit": null,
            "object_position": null,
            "order": null,
            "overflow": null,
            "overflow_x": null,
            "overflow_y": null,
            "padding": null,
            "right": null,
            "top": null,
            "visibility": null,
            "width": null
          }
        },
        "808af2b9eb9f447885909d78d9197699": {
          "model_module": "@jupyter-widgets/controls",
          "model_name": "DescriptionStyleModel",
          "model_module_version": "1.5.0",
          "state": {
            "_model_module": "@jupyter-widgets/controls",
            "_model_module_version": "1.5.0",
            "_model_name": "DescriptionStyleModel",
            "_view_count": null,
            "_view_module": "@jupyter-widgets/base",
            "_view_module_version": "1.2.0",
            "_view_name": "StyleView",
            "description_width": ""
          }
        },
        "34ee7da08af446e880b1fc20dd521a2e": {
          "model_module": "@jupyter-widgets/base",
          "model_name": "LayoutModel",
          "model_module_version": "1.2.0",
          "state": {
            "_model_module": "@jupyter-widgets/base",
            "_model_module_version": "1.2.0",
            "_model_name": "LayoutModel",
            "_view_count": null,
            "_view_module": "@jupyter-widgets/base",
            "_view_module_version": "1.2.0",
            "_view_name": "LayoutView",
            "align_content": null,
            "align_items": null,
            "align_self": null,
            "border": null,
            "bottom": null,
            "display": null,
            "flex": null,
            "flex_flow": null,
            "grid_area": null,
            "grid_auto_columns": null,
            "grid_auto_flow": null,
            "grid_auto_rows": null,
            "grid_column": null,
            "grid_gap": null,
            "grid_row": null,
            "grid_template_areas": null,
            "grid_template_columns": null,
            "grid_template_rows": null,
            "height": null,
            "justify_content": null,
            "justify_items": null,
            "left": null,
            "margin": null,
            "max_height": null,
            "max_width": null,
            "min_height": null,
            "min_width": null,
            "object_fit": null,
            "object_position": null,
            "order": null,
            "overflow": null,
            "overflow_x": null,
            "overflow_y": null,
            "padding": null,
            "right": null,
            "top": null,
            "visibility": null,
            "width": null
          }
        },
        "e2965f4e3b094dd4882791275802fe18": {
          "model_module": "@jupyter-widgets/controls",
          "model_name": "ProgressStyleModel",
          "model_module_version": "1.5.0",
          "state": {
            "_model_module": "@jupyter-widgets/controls",
            "_model_module_version": "1.5.0",
            "_model_name": "ProgressStyleModel",
            "_view_count": null,
            "_view_module": "@jupyter-widgets/base",
            "_view_module_version": "1.2.0",
            "_view_name": "StyleView",
            "bar_color": null,
            "description_width": ""
          }
        },
        "dc9daf8dbc2a4226ad54c52c35273690": {
          "model_module": "@jupyter-widgets/base",
          "model_name": "LayoutModel",
          "model_module_version": "1.2.0",
          "state": {
            "_model_module": "@jupyter-widgets/base",
            "_model_module_version": "1.2.0",
            "_model_name": "LayoutModel",
            "_view_count": null,
            "_view_module": "@jupyter-widgets/base",
            "_view_module_version": "1.2.0",
            "_view_name": "LayoutView",
            "align_content": null,
            "align_items": null,
            "align_self": null,
            "border": null,
            "bottom": null,
            "display": null,
            "flex": null,
            "flex_flow": null,
            "grid_area": null,
            "grid_auto_columns": null,
            "grid_auto_flow": null,
            "grid_auto_rows": null,
            "grid_column": null,
            "grid_gap": null,
            "grid_row": null,
            "grid_template_areas": null,
            "grid_template_columns": null,
            "grid_template_rows": null,
            "height": null,
            "justify_content": null,
            "justify_items": null,
            "left": null,
            "margin": null,
            "max_height": null,
            "max_width": null,
            "min_height": null,
            "min_width": null,
            "object_fit": null,
            "object_position": null,
            "order": null,
            "overflow": null,
            "overflow_x": null,
            "overflow_y": null,
            "padding": null,
            "right": null,
            "top": null,
            "visibility": null,
            "width": null
          }
        },
        "2732d6ae09984c6fa13b66222d600cd3": {
          "model_module": "@jupyter-widgets/controls",
          "model_name": "DescriptionStyleModel",
          "model_module_version": "1.5.0",
          "state": {
            "_model_module": "@jupyter-widgets/controls",
            "_model_module_version": "1.5.0",
            "_model_name": "DescriptionStyleModel",
            "_view_count": null,
            "_view_module": "@jupyter-widgets/base",
            "_view_module_version": "1.2.0",
            "_view_name": "StyleView",
            "description_width": ""
          }
        }
      }
    }
  },
  "cells": [
    {
      "cell_type": "markdown",
      "metadata": {
        "id": "view-in-github",
        "colab_type": "text"
      },
      "source": [
        "<a href=\"https://colab.research.google.com/github/emil565a/NLP/blob/main/NLP_Project_week_38Version2.ipynb\" target=\"_parent\"><img src=\"https://colab.research.google.com/assets/colab-badge.svg\" alt=\"Open In Colab\"/></a>"
      ]
    },
    {
      "cell_type": "code",
      "source": [
        "!pip install datasets\n",
        "!pip install sklearn\n",
        "!pip3 install nltk\n",
        "!pip3 install transformers\n",
        "!pip install transformers datasets evaluate\n",
        "!pip install transformers[torch]\n",
        "!pip install accelerate -U\n",
        "!pip3 install transformers[torch]\n",
        "!pip3 install accelerate -U\n",
        "!pip3 install gensim\n",
        "!pip3 install sentence-transformers\n",
        "!import nltk\n"
      ],
      "metadata": {
        "id": "25o44nE9w23t",
        "colab": {
          "base_uri": "https://localhost:8080/"
        },
        "outputId": "951f474c-4bf7-44ad-9f19-faf38f904dd7"
      },
      "execution_count": 1,
      "outputs": [
        {
          "output_type": "stream",
          "name": "stdout",
          "text": [
            "Requirement already satisfied: datasets in /usr/local/lib/python3.10/dist-packages (2.14.5)\n",
            "Requirement already satisfied: numpy>=1.17 in /usr/local/lib/python3.10/dist-packages (from datasets) (1.23.5)\n",
            "Requirement already satisfied: pyarrow>=8.0.0 in /usr/local/lib/python3.10/dist-packages (from datasets) (9.0.0)\n",
            "Requirement already satisfied: dill<0.3.8,>=0.3.0 in /usr/local/lib/python3.10/dist-packages (from datasets) (0.3.7)\n",
            "Requirement already satisfied: pandas in /usr/local/lib/python3.10/dist-packages (from datasets) (1.5.3)\n",
            "Requirement already satisfied: requests>=2.19.0 in /usr/local/lib/python3.10/dist-packages (from datasets) (2.31.0)\n",
            "Requirement already satisfied: tqdm>=4.62.1 in /usr/local/lib/python3.10/dist-packages (from datasets) (4.66.1)\n",
            "Requirement already satisfied: xxhash in /usr/local/lib/python3.10/dist-packages (from datasets) (3.3.0)\n",
            "Requirement already satisfied: multiprocess in /usr/local/lib/python3.10/dist-packages (from datasets) (0.70.15)\n",
            "Requirement already satisfied: fsspec[http]<2023.9.0,>=2023.1.0 in /usr/local/lib/python3.10/dist-packages (from datasets) (2023.6.0)\n",
            "Requirement already satisfied: aiohttp in /usr/local/lib/python3.10/dist-packages (from datasets) (3.8.5)\n",
            "Requirement already satisfied: huggingface-hub<1.0.0,>=0.14.0 in /usr/local/lib/python3.10/dist-packages (from datasets) (0.17.2)\n",
            "Requirement already satisfied: packaging in /usr/local/lib/python3.10/dist-packages (from datasets) (23.1)\n",
            "Requirement already satisfied: pyyaml>=5.1 in /usr/local/lib/python3.10/dist-packages (from datasets) (6.0.1)\n",
            "Requirement already satisfied: attrs>=17.3.0 in /usr/local/lib/python3.10/dist-packages (from aiohttp->datasets) (23.1.0)\n",
            "Requirement already satisfied: charset-normalizer<4.0,>=2.0 in /usr/local/lib/python3.10/dist-packages (from aiohttp->datasets) (3.2.0)\n",
            "Requirement already satisfied: multidict<7.0,>=4.5 in /usr/local/lib/python3.10/dist-packages (from aiohttp->datasets) (6.0.4)\n",
            "Requirement already satisfied: async-timeout<5.0,>=4.0.0a3 in /usr/local/lib/python3.10/dist-packages (from aiohttp->datasets) (4.0.3)\n",
            "Requirement already satisfied: yarl<2.0,>=1.0 in /usr/local/lib/python3.10/dist-packages (from aiohttp->datasets) (1.9.2)\n",
            "Requirement already satisfied: frozenlist>=1.1.1 in /usr/local/lib/python3.10/dist-packages (from aiohttp->datasets) (1.4.0)\n",
            "Requirement already satisfied: aiosignal>=1.1.2 in /usr/local/lib/python3.10/dist-packages (from aiohttp->datasets) (1.3.1)\n",
            "Requirement already satisfied: filelock in /usr/local/lib/python3.10/dist-packages (from huggingface-hub<1.0.0,>=0.14.0->datasets) (3.12.2)\n",
            "Requirement already satisfied: typing-extensions>=3.7.4.3 in /usr/local/lib/python3.10/dist-packages (from huggingface-hub<1.0.0,>=0.14.0->datasets) (4.5.0)\n",
            "Requirement already satisfied: idna<4,>=2.5 in /usr/local/lib/python3.10/dist-packages (from requests>=2.19.0->datasets) (3.4)\n",
            "Requirement already satisfied: urllib3<3,>=1.21.1 in /usr/local/lib/python3.10/dist-packages (from requests>=2.19.0->datasets) (2.0.4)\n",
            "Requirement already satisfied: certifi>=2017.4.17 in /usr/local/lib/python3.10/dist-packages (from requests>=2.19.0->datasets) (2023.7.22)\n",
            "Requirement already satisfied: python-dateutil>=2.8.1 in /usr/local/lib/python3.10/dist-packages (from pandas->datasets) (2.8.2)\n",
            "Requirement already satisfied: pytz>=2020.1 in /usr/local/lib/python3.10/dist-packages (from pandas->datasets) (2023.3.post1)\n",
            "Requirement already satisfied: six>=1.5 in /usr/local/lib/python3.10/dist-packages (from python-dateutil>=2.8.1->pandas->datasets) (1.16.0)\n",
            "Requirement already satisfied: sklearn in /usr/local/lib/python3.10/dist-packages (0.0.post9)\n",
            "Requirement already satisfied: nltk in /usr/local/lib/python3.10/dist-packages (3.8.1)\n",
            "Requirement already satisfied: click in /usr/local/lib/python3.10/dist-packages (from nltk) (8.1.7)\n",
            "Requirement already satisfied: joblib in /usr/local/lib/python3.10/dist-packages (from nltk) (1.3.2)\n",
            "Requirement already satisfied: regex>=2021.8.3 in /usr/local/lib/python3.10/dist-packages (from nltk) (2023.6.3)\n",
            "Requirement already satisfied: tqdm in /usr/local/lib/python3.10/dist-packages (from nltk) (4.66.1)\n",
            "Requirement already satisfied: transformers in /usr/local/lib/python3.10/dist-packages (4.33.2)\n",
            "Requirement already satisfied: filelock in /usr/local/lib/python3.10/dist-packages (from transformers) (3.12.2)\n",
            "Requirement already satisfied: huggingface-hub<1.0,>=0.15.1 in /usr/local/lib/python3.10/dist-packages (from transformers) (0.17.2)\n",
            "Requirement already satisfied: numpy>=1.17 in /usr/local/lib/python3.10/dist-packages (from transformers) (1.23.5)\n",
            "Requirement already satisfied: packaging>=20.0 in /usr/local/lib/python3.10/dist-packages (from transformers) (23.1)\n",
            "Requirement already satisfied: pyyaml>=5.1 in /usr/local/lib/python3.10/dist-packages (from transformers) (6.0.1)\n",
            "Requirement already satisfied: regex!=2019.12.17 in /usr/local/lib/python3.10/dist-packages (from transformers) (2023.6.3)\n",
            "Requirement already satisfied: requests in /usr/local/lib/python3.10/dist-packages (from transformers) (2.31.0)\n",
            "Requirement already satisfied: tokenizers!=0.11.3,<0.14,>=0.11.1 in /usr/local/lib/python3.10/dist-packages (from transformers) (0.13.3)\n",
            "Requirement already satisfied: safetensors>=0.3.1 in /usr/local/lib/python3.10/dist-packages (from transformers) (0.3.3)\n",
            "Requirement already satisfied: tqdm>=4.27 in /usr/local/lib/python3.10/dist-packages (from transformers) (4.66.1)\n",
            "Requirement already satisfied: fsspec in /usr/local/lib/python3.10/dist-packages (from huggingface-hub<1.0,>=0.15.1->transformers) (2023.6.0)\n",
            "Requirement already satisfied: typing-extensions>=3.7.4.3 in /usr/local/lib/python3.10/dist-packages (from huggingface-hub<1.0,>=0.15.1->transformers) (4.5.0)\n",
            "Requirement already satisfied: charset-normalizer<4,>=2 in /usr/local/lib/python3.10/dist-packages (from requests->transformers) (3.2.0)\n",
            "Requirement already satisfied: idna<4,>=2.5 in /usr/local/lib/python3.10/dist-packages (from requests->transformers) (3.4)\n",
            "Requirement already satisfied: urllib3<3,>=1.21.1 in /usr/local/lib/python3.10/dist-packages (from requests->transformers) (2.0.4)\n",
            "Requirement already satisfied: certifi>=2017.4.17 in /usr/local/lib/python3.10/dist-packages (from requests->transformers) (2023.7.22)\n",
            "Requirement already satisfied: transformers in /usr/local/lib/python3.10/dist-packages (4.33.2)\n",
            "Requirement already satisfied: datasets in /usr/local/lib/python3.10/dist-packages (2.14.5)\n",
            "Requirement already satisfied: evaluate in /usr/local/lib/python3.10/dist-packages (0.4.0)\n",
            "Requirement already satisfied: filelock in /usr/local/lib/python3.10/dist-packages (from transformers) (3.12.2)\n",
            "Requirement already satisfied: huggingface-hub<1.0,>=0.15.1 in /usr/local/lib/python3.10/dist-packages (from transformers) (0.17.2)\n",
            "Requirement already satisfied: numpy>=1.17 in /usr/local/lib/python3.10/dist-packages (from transformers) (1.23.5)\n",
            "Requirement already satisfied: packaging>=20.0 in /usr/local/lib/python3.10/dist-packages (from transformers) (23.1)\n",
            "Requirement already satisfied: pyyaml>=5.1 in /usr/local/lib/python3.10/dist-packages (from transformers) (6.0.1)\n",
            "Requirement already satisfied: regex!=2019.12.17 in /usr/local/lib/python3.10/dist-packages (from transformers) (2023.6.3)\n",
            "Requirement already satisfied: requests in /usr/local/lib/python3.10/dist-packages (from transformers) (2.31.0)\n",
            "Requirement already satisfied: tokenizers!=0.11.3,<0.14,>=0.11.1 in /usr/local/lib/python3.10/dist-packages (from transformers) (0.13.3)\n",
            "Requirement already satisfied: safetensors>=0.3.1 in /usr/local/lib/python3.10/dist-packages (from transformers) (0.3.3)\n",
            "Requirement already satisfied: tqdm>=4.27 in /usr/local/lib/python3.10/dist-packages (from transformers) (4.66.1)\n",
            "Requirement already satisfied: pyarrow>=8.0.0 in /usr/local/lib/python3.10/dist-packages (from datasets) (9.0.0)\n",
            "Requirement already satisfied: dill<0.3.8,>=0.3.0 in /usr/local/lib/python3.10/dist-packages (from datasets) (0.3.7)\n",
            "Requirement already satisfied: pandas in /usr/local/lib/python3.10/dist-packages (from datasets) (1.5.3)\n",
            "Requirement already satisfied: xxhash in /usr/local/lib/python3.10/dist-packages (from datasets) (3.3.0)\n",
            "Requirement already satisfied: multiprocess in /usr/local/lib/python3.10/dist-packages (from datasets) (0.70.15)\n",
            "Requirement already satisfied: fsspec[http]<2023.9.0,>=2023.1.0 in /usr/local/lib/python3.10/dist-packages (from datasets) (2023.6.0)\n",
            "Requirement already satisfied: aiohttp in /usr/local/lib/python3.10/dist-packages (from datasets) (3.8.5)\n",
            "Requirement already satisfied: responses<0.19 in /usr/local/lib/python3.10/dist-packages (from evaluate) (0.18.0)\n",
            "Requirement already satisfied: attrs>=17.3.0 in /usr/local/lib/python3.10/dist-packages (from aiohttp->datasets) (23.1.0)\n",
            "Requirement already satisfied: charset-normalizer<4.0,>=2.0 in /usr/local/lib/python3.10/dist-packages (from aiohttp->datasets) (3.2.0)\n",
            "Requirement already satisfied: multidict<7.0,>=4.5 in /usr/local/lib/python3.10/dist-packages (from aiohttp->datasets) (6.0.4)\n",
            "Requirement already satisfied: async-timeout<5.0,>=4.0.0a3 in /usr/local/lib/python3.10/dist-packages (from aiohttp->datasets) (4.0.3)\n",
            "Requirement already satisfied: yarl<2.0,>=1.0 in /usr/local/lib/python3.10/dist-packages (from aiohttp->datasets) (1.9.2)\n",
            "Requirement already satisfied: frozenlist>=1.1.1 in /usr/local/lib/python3.10/dist-packages (from aiohttp->datasets) (1.4.0)\n",
            "Requirement already satisfied: aiosignal>=1.1.2 in /usr/local/lib/python3.10/dist-packages (from aiohttp->datasets) (1.3.1)\n",
            "Requirement already satisfied: typing-extensions>=3.7.4.3 in /usr/local/lib/python3.10/dist-packages (from huggingface-hub<1.0,>=0.15.1->transformers) (4.5.0)\n",
            "Requirement already satisfied: idna<4,>=2.5 in /usr/local/lib/python3.10/dist-packages (from requests->transformers) (3.4)\n",
            "Requirement already satisfied: urllib3<3,>=1.21.1 in /usr/local/lib/python3.10/dist-packages (from requests->transformers) (2.0.4)\n",
            "Requirement already satisfied: certifi>=2017.4.17 in /usr/local/lib/python3.10/dist-packages (from requests->transformers) (2023.7.22)\n",
            "Requirement already satisfied: python-dateutil>=2.8.1 in /usr/local/lib/python3.10/dist-packages (from pandas->datasets) (2.8.2)\n",
            "Requirement already satisfied: pytz>=2020.1 in /usr/local/lib/python3.10/dist-packages (from pandas->datasets) (2023.3.post1)\n",
            "Requirement already satisfied: six>=1.5 in /usr/local/lib/python3.10/dist-packages (from python-dateutil>=2.8.1->pandas->datasets) (1.16.0)\n",
            "Requirement already satisfied: transformers[torch] in /usr/local/lib/python3.10/dist-packages (4.33.2)\n",
            "Requirement already satisfied: filelock in /usr/local/lib/python3.10/dist-packages (from transformers[torch]) (3.12.2)\n",
            "Requirement already satisfied: huggingface-hub<1.0,>=0.15.1 in /usr/local/lib/python3.10/dist-packages (from transformers[torch]) (0.17.2)\n",
            "Requirement already satisfied: numpy>=1.17 in /usr/local/lib/python3.10/dist-packages (from transformers[torch]) (1.23.5)\n",
            "Requirement already satisfied: packaging>=20.0 in /usr/local/lib/python3.10/dist-packages (from transformers[torch]) (23.1)\n",
            "Requirement already satisfied: pyyaml>=5.1 in /usr/local/lib/python3.10/dist-packages (from transformers[torch]) (6.0.1)\n",
            "Requirement already satisfied: regex!=2019.12.17 in /usr/local/lib/python3.10/dist-packages (from transformers[torch]) (2023.6.3)\n",
            "Requirement already satisfied: requests in /usr/local/lib/python3.10/dist-packages (from transformers[torch]) (2.31.0)\n",
            "Requirement already satisfied: tokenizers!=0.11.3,<0.14,>=0.11.1 in /usr/local/lib/python3.10/dist-packages (from transformers[torch]) (0.13.3)\n",
            "Requirement already satisfied: safetensors>=0.3.1 in /usr/local/lib/python3.10/dist-packages (from transformers[torch]) (0.3.3)\n",
            "Requirement already satisfied: tqdm>=4.27 in /usr/local/lib/python3.10/dist-packages (from transformers[torch]) (4.66.1)\n",
            "Requirement already satisfied: torch!=1.12.0,>=1.10 in /usr/local/lib/python3.10/dist-packages (from transformers[torch]) (2.0.1+cu118)\n",
            "Requirement already satisfied: accelerate>=0.20.3 in /usr/local/lib/python3.10/dist-packages (from transformers[torch]) (0.23.0)\n",
            "Requirement already satisfied: psutil in /usr/local/lib/python3.10/dist-packages (from accelerate>=0.20.3->transformers[torch]) (5.9.5)\n",
            "Requirement already satisfied: fsspec in /usr/local/lib/python3.10/dist-packages (from huggingface-hub<1.0,>=0.15.1->transformers[torch]) (2023.6.0)\n",
            "Requirement already satisfied: typing-extensions>=3.7.4.3 in /usr/local/lib/python3.10/dist-packages (from huggingface-hub<1.0,>=0.15.1->transformers[torch]) (4.5.0)\n",
            "Requirement already satisfied: sympy in /usr/local/lib/python3.10/dist-packages (from torch!=1.12.0,>=1.10->transformers[torch]) (1.12)\n",
            "Requirement already satisfied: networkx in /usr/local/lib/python3.10/dist-packages (from torch!=1.12.0,>=1.10->transformers[torch]) (3.1)\n",
            "Requirement already satisfied: jinja2 in /usr/local/lib/python3.10/dist-packages (from torch!=1.12.0,>=1.10->transformers[torch]) (3.1.2)\n",
            "Requirement already satisfied: triton==2.0.0 in /usr/local/lib/python3.10/dist-packages (from torch!=1.12.0,>=1.10->transformers[torch]) (2.0.0)\n",
            "Requirement already satisfied: cmake in /usr/local/lib/python3.10/dist-packages (from triton==2.0.0->torch!=1.12.0,>=1.10->transformers[torch]) (3.27.4.1)\n",
            "Requirement already satisfied: lit in /usr/local/lib/python3.10/dist-packages (from triton==2.0.0->torch!=1.12.0,>=1.10->transformers[torch]) (16.0.6)\n",
            "Requirement already satisfied: charset-normalizer<4,>=2 in /usr/local/lib/python3.10/dist-packages (from requests->transformers[torch]) (3.2.0)\n",
            "Requirement already satisfied: idna<4,>=2.5 in /usr/local/lib/python3.10/dist-packages (from requests->transformers[torch]) (3.4)\n",
            "Requirement already satisfied: urllib3<3,>=1.21.1 in /usr/local/lib/python3.10/dist-packages (from requests->transformers[torch]) (2.0.4)\n",
            "Requirement already satisfied: certifi>=2017.4.17 in /usr/local/lib/python3.10/dist-packages (from requests->transformers[torch]) (2023.7.22)\n",
            "Requirement already satisfied: MarkupSafe>=2.0 in /usr/local/lib/python3.10/dist-packages (from jinja2->torch!=1.12.0,>=1.10->transformers[torch]) (2.1.3)\n",
            "Requirement already satisfied: mpmath>=0.19 in /usr/local/lib/python3.10/dist-packages (from sympy->torch!=1.12.0,>=1.10->transformers[torch]) (1.3.0)\n",
            "Requirement already satisfied: accelerate in /usr/local/lib/python3.10/dist-packages (0.23.0)\n",
            "Requirement already satisfied: numpy>=1.17 in /usr/local/lib/python3.10/dist-packages (from accelerate) (1.23.5)\n",
            "Requirement already satisfied: packaging>=20.0 in /usr/local/lib/python3.10/dist-packages (from accelerate) (23.1)\n",
            "Requirement already satisfied: psutil in /usr/local/lib/python3.10/dist-packages (from accelerate) (5.9.5)\n",
            "Requirement already satisfied: pyyaml in /usr/local/lib/python3.10/dist-packages (from accelerate) (6.0.1)\n",
            "Requirement already satisfied: torch>=1.10.0 in /usr/local/lib/python3.10/dist-packages (from accelerate) (2.0.1+cu118)\n",
            "Requirement already satisfied: huggingface-hub in /usr/local/lib/python3.10/dist-packages (from accelerate) (0.17.2)\n",
            "Requirement already satisfied: filelock in /usr/local/lib/python3.10/dist-packages (from torch>=1.10.0->accelerate) (3.12.2)\n",
            "Requirement already satisfied: typing-extensions in /usr/local/lib/python3.10/dist-packages (from torch>=1.10.0->accelerate) (4.5.0)\n",
            "Requirement already satisfied: sympy in /usr/local/lib/python3.10/dist-packages (from torch>=1.10.0->accelerate) (1.12)\n",
            "Requirement already satisfied: networkx in /usr/local/lib/python3.10/dist-packages (from torch>=1.10.0->accelerate) (3.1)\n",
            "Requirement already satisfied: jinja2 in /usr/local/lib/python3.10/dist-packages (from torch>=1.10.0->accelerate) (3.1.2)\n",
            "Requirement already satisfied: triton==2.0.0 in /usr/local/lib/python3.10/dist-packages (from torch>=1.10.0->accelerate) (2.0.0)\n",
            "Requirement already satisfied: cmake in /usr/local/lib/python3.10/dist-packages (from triton==2.0.0->torch>=1.10.0->accelerate) (3.27.4.1)\n",
            "Requirement already satisfied: lit in /usr/local/lib/python3.10/dist-packages (from triton==2.0.0->torch>=1.10.0->accelerate) (16.0.6)\n",
            "Requirement already satisfied: fsspec in /usr/local/lib/python3.10/dist-packages (from huggingface-hub->accelerate) (2023.6.0)\n",
            "Requirement already satisfied: requests in /usr/local/lib/python3.10/dist-packages (from huggingface-hub->accelerate) (2.31.0)\n",
            "Requirement already satisfied: tqdm>=4.42.1 in /usr/local/lib/python3.10/dist-packages (from huggingface-hub->accelerate) (4.66.1)\n",
            "Requirement already satisfied: MarkupSafe>=2.0 in /usr/local/lib/python3.10/dist-packages (from jinja2->torch>=1.10.0->accelerate) (2.1.3)\n",
            "Requirement already satisfied: charset-normalizer<4,>=2 in /usr/local/lib/python3.10/dist-packages (from requests->huggingface-hub->accelerate) (3.2.0)\n",
            "Requirement already satisfied: idna<4,>=2.5 in /usr/local/lib/python3.10/dist-packages (from requests->huggingface-hub->accelerate) (3.4)\n",
            "Requirement already satisfied: urllib3<3,>=1.21.1 in /usr/local/lib/python3.10/dist-packages (from requests->huggingface-hub->accelerate) (2.0.4)\n",
            "Requirement already satisfied: certifi>=2017.4.17 in /usr/local/lib/python3.10/dist-packages (from requests->huggingface-hub->accelerate) (2023.7.22)\n",
            "Requirement already satisfied: mpmath>=0.19 in /usr/local/lib/python3.10/dist-packages (from sympy->torch>=1.10.0->accelerate) (1.3.0)\n",
            "Requirement already satisfied: transformers[torch] in /usr/local/lib/python3.10/dist-packages (4.33.2)\n",
            "Requirement already satisfied: filelock in /usr/local/lib/python3.10/dist-packages (from transformers[torch]) (3.12.2)\n",
            "Requirement already satisfied: huggingface-hub<1.0,>=0.15.1 in /usr/local/lib/python3.10/dist-packages (from transformers[torch]) (0.17.2)\n",
            "Requirement already satisfied: numpy>=1.17 in /usr/local/lib/python3.10/dist-packages (from transformers[torch]) (1.23.5)\n",
            "Requirement already satisfied: packaging>=20.0 in /usr/local/lib/python3.10/dist-packages (from transformers[torch]) (23.1)\n",
            "Requirement already satisfied: pyyaml>=5.1 in /usr/local/lib/python3.10/dist-packages (from transformers[torch]) (6.0.1)\n",
            "Requirement already satisfied: regex!=2019.12.17 in /usr/local/lib/python3.10/dist-packages (from transformers[torch]) (2023.6.3)\n",
            "Requirement already satisfied: requests in /usr/local/lib/python3.10/dist-packages (from transformers[torch]) (2.31.0)\n",
            "Requirement already satisfied: tokenizers!=0.11.3,<0.14,>=0.11.1 in /usr/local/lib/python3.10/dist-packages (from transformers[torch]) (0.13.3)\n",
            "Requirement already satisfied: safetensors>=0.3.1 in /usr/local/lib/python3.10/dist-packages (from transformers[torch]) (0.3.3)\n",
            "Requirement already satisfied: tqdm>=4.27 in /usr/local/lib/python3.10/dist-packages (from transformers[torch]) (4.66.1)\n",
            "Requirement already satisfied: torch!=1.12.0,>=1.10 in /usr/local/lib/python3.10/dist-packages (from transformers[torch]) (2.0.1+cu118)\n",
            "Requirement already satisfied: accelerate>=0.20.3 in /usr/local/lib/python3.10/dist-packages (from transformers[torch]) (0.23.0)\n",
            "Requirement already satisfied: psutil in /usr/local/lib/python3.10/dist-packages (from accelerate>=0.20.3->transformers[torch]) (5.9.5)\n",
            "Requirement already satisfied: fsspec in /usr/local/lib/python3.10/dist-packages (from huggingface-hub<1.0,>=0.15.1->transformers[torch]) (2023.6.0)\n",
            "Requirement already satisfied: typing-extensions>=3.7.4.3 in /usr/local/lib/python3.10/dist-packages (from huggingface-hub<1.0,>=0.15.1->transformers[torch]) (4.5.0)\n",
            "Requirement already satisfied: sympy in /usr/local/lib/python3.10/dist-packages (from torch!=1.12.0,>=1.10->transformers[torch]) (1.12)\n",
            "Requirement already satisfied: networkx in /usr/local/lib/python3.10/dist-packages (from torch!=1.12.0,>=1.10->transformers[torch]) (3.1)\n",
            "Requirement already satisfied: jinja2 in /usr/local/lib/python3.10/dist-packages (from torch!=1.12.0,>=1.10->transformers[torch]) (3.1.2)\n",
            "Requirement already satisfied: triton==2.0.0 in /usr/local/lib/python3.10/dist-packages (from torch!=1.12.0,>=1.10->transformers[torch]) (2.0.0)\n",
            "Requirement already satisfied: cmake in /usr/local/lib/python3.10/dist-packages (from triton==2.0.0->torch!=1.12.0,>=1.10->transformers[torch]) (3.27.4.1)\n",
            "Requirement already satisfied: lit in /usr/local/lib/python3.10/dist-packages (from triton==2.0.0->torch!=1.12.0,>=1.10->transformers[torch]) (16.0.6)\n",
            "Requirement already satisfied: charset-normalizer<4,>=2 in /usr/local/lib/python3.10/dist-packages (from requests->transformers[torch]) (3.2.0)\n",
            "Requirement already satisfied: idna<4,>=2.5 in /usr/local/lib/python3.10/dist-packages (from requests->transformers[torch]) (3.4)\n",
            "Requirement already satisfied: urllib3<3,>=1.21.1 in /usr/local/lib/python3.10/dist-packages (from requests->transformers[torch]) (2.0.4)\n",
            "Requirement already satisfied: certifi>=2017.4.17 in /usr/local/lib/python3.10/dist-packages (from requests->transformers[torch]) (2023.7.22)\n",
            "Requirement already satisfied: MarkupSafe>=2.0 in /usr/local/lib/python3.10/dist-packages (from jinja2->torch!=1.12.0,>=1.10->transformers[torch]) (2.1.3)\n",
            "Requirement already satisfied: mpmath>=0.19 in /usr/local/lib/python3.10/dist-packages (from sympy->torch!=1.12.0,>=1.10->transformers[torch]) (1.3.0)\n",
            "Requirement already satisfied: accelerate in /usr/local/lib/python3.10/dist-packages (0.23.0)\n",
            "Requirement already satisfied: numpy>=1.17 in /usr/local/lib/python3.10/dist-packages (from accelerate) (1.23.5)\n",
            "Requirement already satisfied: packaging>=20.0 in /usr/local/lib/python3.10/dist-packages (from accelerate) (23.1)\n",
            "Requirement already satisfied: psutil in /usr/local/lib/python3.10/dist-packages (from accelerate) (5.9.5)\n",
            "Requirement already satisfied: pyyaml in /usr/local/lib/python3.10/dist-packages (from accelerate) (6.0.1)\n",
            "Requirement already satisfied: torch>=1.10.0 in /usr/local/lib/python3.10/dist-packages (from accelerate) (2.0.1+cu118)\n",
            "Requirement already satisfied: huggingface-hub in /usr/local/lib/python3.10/dist-packages (from accelerate) (0.17.2)\n",
            "Requirement already satisfied: filelock in /usr/local/lib/python3.10/dist-packages (from torch>=1.10.0->accelerate) (3.12.2)\n",
            "Requirement already satisfied: typing-extensions in /usr/local/lib/python3.10/dist-packages (from torch>=1.10.0->accelerate) (4.5.0)\n",
            "Requirement already satisfied: sympy in /usr/local/lib/python3.10/dist-packages (from torch>=1.10.0->accelerate) (1.12)\n",
            "Requirement already satisfied: networkx in /usr/local/lib/python3.10/dist-packages (from torch>=1.10.0->accelerate) (3.1)\n",
            "Requirement already satisfied: jinja2 in /usr/local/lib/python3.10/dist-packages (from torch>=1.10.0->accelerate) (3.1.2)\n",
            "Requirement already satisfied: triton==2.0.0 in /usr/local/lib/python3.10/dist-packages (from torch>=1.10.0->accelerate) (2.0.0)\n",
            "Requirement already satisfied: cmake in /usr/local/lib/python3.10/dist-packages (from triton==2.0.0->torch>=1.10.0->accelerate) (3.27.4.1)\n",
            "Requirement already satisfied: lit in /usr/local/lib/python3.10/dist-packages (from triton==2.0.0->torch>=1.10.0->accelerate) (16.0.6)\n",
            "Requirement already satisfied: fsspec in /usr/local/lib/python3.10/dist-packages (from huggingface-hub->accelerate) (2023.6.0)\n",
            "Requirement already satisfied: requests in /usr/local/lib/python3.10/dist-packages (from huggingface-hub->accelerate) (2.31.0)\n",
            "Requirement already satisfied: tqdm>=4.42.1 in /usr/local/lib/python3.10/dist-packages (from huggingface-hub->accelerate) (4.66.1)\n",
            "Requirement already satisfied: MarkupSafe>=2.0 in /usr/local/lib/python3.10/dist-packages (from jinja2->torch>=1.10.0->accelerate) (2.1.3)\n",
            "Requirement already satisfied: charset-normalizer<4,>=2 in /usr/local/lib/python3.10/dist-packages (from requests->huggingface-hub->accelerate) (3.2.0)\n",
            "Requirement already satisfied: idna<4,>=2.5 in /usr/local/lib/python3.10/dist-packages (from requests->huggingface-hub->accelerate) (3.4)\n",
            "Requirement already satisfied: urllib3<3,>=1.21.1 in /usr/local/lib/python3.10/dist-packages (from requests->huggingface-hub->accelerate) (2.0.4)\n",
            "Requirement already satisfied: certifi>=2017.4.17 in /usr/local/lib/python3.10/dist-packages (from requests->huggingface-hub->accelerate) (2023.7.22)\n",
            "Requirement already satisfied: mpmath>=0.19 in /usr/local/lib/python3.10/dist-packages (from sympy->torch>=1.10.0->accelerate) (1.3.0)\n",
            "Requirement already satisfied: gensim in /usr/local/lib/python3.10/dist-packages (4.3.2)\n",
            "Requirement already satisfied: numpy>=1.18.5 in /usr/local/lib/python3.10/dist-packages (from gensim) (1.23.5)\n",
            "Requirement already satisfied: scipy>=1.7.0 in /usr/local/lib/python3.10/dist-packages (from gensim) (1.11.2)\n",
            "Requirement already satisfied: smart-open>=1.8.1 in /usr/local/lib/python3.10/dist-packages (from gensim) (6.4.0)\n",
            "Requirement already satisfied: sentence-transformers in /usr/local/lib/python3.10/dist-packages (2.2.2)\n",
            "Requirement already satisfied: transformers<5.0.0,>=4.6.0 in /usr/local/lib/python3.10/dist-packages (from sentence-transformers) (4.33.2)\n",
            "Requirement already satisfied: tqdm in /usr/local/lib/python3.10/dist-packages (from sentence-transformers) (4.66.1)\n",
            "Requirement already satisfied: torch>=1.6.0 in /usr/local/lib/python3.10/dist-packages (from sentence-transformers) (2.0.1+cu118)\n",
            "Requirement already satisfied: torchvision in /usr/local/lib/python3.10/dist-packages (from sentence-transformers) (0.15.2+cu118)\n",
            "Requirement already satisfied: numpy in /usr/local/lib/python3.10/dist-packages (from sentence-transformers) (1.23.5)\n",
            "Requirement already satisfied: scikit-learn in /usr/local/lib/python3.10/dist-packages (from sentence-transformers) (1.2.2)\n",
            "Requirement already satisfied: scipy in /usr/local/lib/python3.10/dist-packages (from sentence-transformers) (1.11.2)\n",
            "Requirement already satisfied: nltk in /usr/local/lib/python3.10/dist-packages (from sentence-transformers) (3.8.1)\n",
            "Requirement already satisfied: sentencepiece in /usr/local/lib/python3.10/dist-packages (from sentence-transformers) (0.1.99)\n",
            "Requirement already satisfied: huggingface-hub>=0.4.0 in /usr/local/lib/python3.10/dist-packages (from sentence-transformers) (0.17.2)\n",
            "Requirement already satisfied: filelock in /usr/local/lib/python3.10/dist-packages (from huggingface-hub>=0.4.0->sentence-transformers) (3.12.2)\n",
            "Requirement already satisfied: fsspec in /usr/local/lib/python3.10/dist-packages (from huggingface-hub>=0.4.0->sentence-transformers) (2023.6.0)\n",
            "Requirement already satisfied: requests in /usr/local/lib/python3.10/dist-packages (from huggingface-hub>=0.4.0->sentence-transformers) (2.31.0)\n",
            "Requirement already satisfied: pyyaml>=5.1 in /usr/local/lib/python3.10/dist-packages (from huggingface-hub>=0.4.0->sentence-transformers) (6.0.1)\n",
            "Requirement already satisfied: typing-extensions>=3.7.4.3 in /usr/local/lib/python3.10/dist-packages (from huggingface-hub>=0.4.0->sentence-transformers) (4.5.0)\n",
            "Requirement already satisfied: packaging>=20.9 in /usr/local/lib/python3.10/dist-packages (from huggingface-hub>=0.4.0->sentence-transformers) (23.1)\n",
            "Requirement already satisfied: sympy in /usr/local/lib/python3.10/dist-packages (from torch>=1.6.0->sentence-transformers) (1.12)\n",
            "Requirement already satisfied: networkx in /usr/local/lib/python3.10/dist-packages (from torch>=1.6.0->sentence-transformers) (3.1)\n",
            "Requirement already satisfied: jinja2 in /usr/local/lib/python3.10/dist-packages (from torch>=1.6.0->sentence-transformers) (3.1.2)\n",
            "Requirement already satisfied: triton==2.0.0 in /usr/local/lib/python3.10/dist-packages (from torch>=1.6.0->sentence-transformers) (2.0.0)\n",
            "Requirement already satisfied: cmake in /usr/local/lib/python3.10/dist-packages (from triton==2.0.0->torch>=1.6.0->sentence-transformers) (3.27.4.1)\n",
            "Requirement already satisfied: lit in /usr/local/lib/python3.10/dist-packages (from triton==2.0.0->torch>=1.6.0->sentence-transformers) (16.0.6)\n",
            "Requirement already satisfied: regex!=2019.12.17 in /usr/local/lib/python3.10/dist-packages (from transformers<5.0.0,>=4.6.0->sentence-transformers) (2023.6.3)\n",
            "Requirement already satisfied: tokenizers!=0.11.3,<0.14,>=0.11.1 in /usr/local/lib/python3.10/dist-packages (from transformers<5.0.0,>=4.6.0->sentence-transformers) (0.13.3)\n",
            "Requirement already satisfied: safetensors>=0.3.1 in /usr/local/lib/python3.10/dist-packages (from transformers<5.0.0,>=4.6.0->sentence-transformers) (0.3.3)\n",
            "Requirement already satisfied: click in /usr/local/lib/python3.10/dist-packages (from nltk->sentence-transformers) (8.1.7)\n",
            "Requirement already satisfied: joblib in /usr/local/lib/python3.10/dist-packages (from nltk->sentence-transformers) (1.3.2)\n",
            "Requirement already satisfied: threadpoolctl>=2.0.0 in /usr/local/lib/python3.10/dist-packages (from scikit-learn->sentence-transformers) (3.2.0)\n",
            "Requirement already satisfied: pillow!=8.3.*,>=5.3.0 in /usr/local/lib/python3.10/dist-packages (from torchvision->sentence-transformers) (9.4.0)\n",
            "Requirement already satisfied: MarkupSafe>=2.0 in /usr/local/lib/python3.10/dist-packages (from jinja2->torch>=1.6.0->sentence-transformers) (2.1.3)\n",
            "Requirement already satisfied: charset-normalizer<4,>=2 in /usr/local/lib/python3.10/dist-packages (from requests->huggingface-hub>=0.4.0->sentence-transformers) (3.2.0)\n",
            "Requirement already satisfied: idna<4,>=2.5 in /usr/local/lib/python3.10/dist-packages (from requests->huggingface-hub>=0.4.0->sentence-transformers) (3.4)\n",
            "Requirement already satisfied: urllib3<3,>=1.21.1 in /usr/local/lib/python3.10/dist-packages (from requests->huggingface-hub>=0.4.0->sentence-transformers) (2.0.4)\n",
            "Requirement already satisfied: certifi>=2017.4.17 in /usr/local/lib/python3.10/dist-packages (from requests->huggingface-hub>=0.4.0->sentence-transformers) (2023.7.22)\n",
            "Requirement already satisfied: mpmath>=0.19 in /usr/local/lib/python3.10/dist-packages (from sympy->torch>=1.6.0->sentence-transformers) (1.3.0)\n",
            "/bin/bash: line 1: import: command not found\n"
          ]
        }
      ]
    },
    {
      "cell_type": "code",
      "source": [
        "from datasets import load_dataset\n",
        "import pandas as pd\n",
        "import nltk\n",
        "import string\n",
        "import re\n",
        "\n",
        "import tensorflow as tf\n",
        "\n",
        "import transformers\n",
        "from transformers import AutoTokenizer\n",
        "from transformers import pipeline\n",
        "from transformers import AutoTokenizer\n",
        "from transformers import AutoModelForSequenceClassification\n",
        "from transformers import TrainingArguments\n",
        "from transformers import Trainer\n",
        "from transformers import AutoModelForQuestionAnswering\n",
        "from transformers import DefaultDataCollator\n",
        "from transformers import TFTrainer #Used for training model\n",
        "from transformers import TFTrainingArguments #Used fo training arguments\n",
        "from transformers import BertTokenizer, squad_convert_examples_to_features, SquadV2Processor\n",
        "from transformers.data.processors.squad import SquadExample\n",
        "from transformers import AutoModelForQuestionAnswering, TrainingArguments, Trainer\n",
        "\n",
        "from nltk.corpus import stopwords\n",
        "from nltk.tokenize import word_tokenize\n",
        "from nltk.stem import PorterStemmer\n",
        "from nltk.stem import WordNetLemmatizer\n",
        "\n",
        "#import gensim\n",
        "from gensim import corpora\n",
        "from gensim import models\n",
        "from gensim import similarities\n",
        "from gensim.models import Word2Vec\n",
        "from gensim.models import KeyedVectors\n",
        "from gensim import matutils"
      ],
      "metadata": {
        "id": "MLvcR2aCxamA"
      },
      "execution_count": 2,
      "outputs": []
    },
    {
      "cell_type": "code",
      "source": [
        "nltk.download('punkt')\n",
        "dataset = load_dataset(\"copenlu/answerable_tydiqa\")"
      ],
      "metadata": {
        "colab": {
          "base_uri": "https://localhost:8080/"
        },
        "id": "_ZkyfP0SDsVl",
        "outputId": "11d00261-b753-4b9b-f97d-3ba9b382d430"
      },
      "execution_count": 3,
      "outputs": [
        {
          "output_type": "stream",
          "name": "stderr",
          "text": [
            "[nltk_data] Downloading package punkt to /root/nltk_data...\n",
            "[nltk_data]   Package punkt is already up-to-date!\n"
          ]
        }
      ]
    },
    {
      "cell_type": "code",
      "execution_count": 4,
      "metadata": {
        "id": "3A2PzG-gwrnV"
      },
      "outputs": [],
      "source": [
        "# Also load dataset as pandas.DataFrame, in case we need it later\n",
        "train_pd = pd.DataFrame(data=dataset[\"train\"])\n",
        "validation_pd = pd.DataFrame(data=dataset[\"validation\"])"
      ]
    },
    {
      "cell_type": "code",
      "source": [
        "arabic_train = train_pd[train_pd['language'] == 'arabic']\n",
        "bengali_train = train_pd[train_pd['language'] == 'bengali']\n",
        "indo_train = train_pd[train_pd['language'] == 'indonesian']\n",
        "\n",
        "arabic_validation = validation_pd[validation_pd['language'] == 'arabic']\n",
        "bengali_validation = validation_pd[validation_pd['language'] == 'bengali']\n",
        "indo_validation = validation_pd[validation_pd['language'] == 'indonesian']"
      ],
      "metadata": {
        "id": "qLtbdbM1x8TM"
      },
      "execution_count": 5,
      "outputs": []
    },
    {
      "cell_type": "code",
      "source": [
        "#print columns\n",
        "print(arabic_train.columns)"
      ],
      "metadata": {
        "colab": {
          "base_uri": "https://localhost:8080/"
        },
        "id": "gcwXtOA6QtRo",
        "outputId": "ce249846-e5d1-4e90-ef1b-ba915795d62f"
      },
      "execution_count": 6,
      "outputs": [
        {
          "output_type": "stream",
          "name": "stdout",
          "text": [
            "Index(['question_text', 'document_title', 'language', 'annotations',\n",
            "       'document_plaintext', 'document_url'],\n",
            "      dtype='object')\n"
          ]
        }
      ]
    },
    {
      "cell_type": "code",
      "source": [
        "def tokenizerOld(text):\n",
        "  #Tokenize the text and translate\n",
        "  tokens = [word.lower() for word in nltk.word_tokenize(text)]\n",
        "  return tokens\n",
        "\n",
        "#New that utilize transformer.AutoTokenizer\n",
        "tokenizer = AutoTokenizer.from_pretrained(\"bert-base-cased\")\n",
        "def tokenize_function(text):\n",
        "    return tokenizer(text, padding=\"max_length\", truncation=True)\n",
        "\n",
        "class entry:\n",
        "    def __init__(self, question_text, document_title, language, annotations, document_plaintext, document_url):\n",
        "        self.question_text = question_text\n",
        "        self.document_title = document_title\n",
        "        self.language = language\n",
        "        self.annotations = annotations\n",
        "        self.answerable = annotations.get(\"answer_start\", [-1]) != [-1]\n",
        "        self.document_plaintext = document_plaintext\n",
        "        self.document_url = document_url\n",
        "        self.question_tokenized = tokenizerOld(self.question_text)\n",
        "        self.document_tokenized = tokenizerOld(self.document_plaintext)\n",
        "\n",
        "        #To use with the transformer library\n",
        "        self.answers = {'answer_start': annotations['answer_start'], 'text': annotations['answer_text']}\n",
        "        self.context = document_plaintext\n",
        "        self.id = document_url\n",
        "        self.question = question_text\n",
        "        self.title = document_title\n",
        "\n",
        "\n",
        "    def __str__(self):\n",
        "        return f\"Question: {self.question_text}\\n\" \\\n",
        "               f\"Document Title: {self.document_title}\\n\" \\\n",
        "               f\"Language: {self.language}\\n\" \\\n",
        "               f\"Annotations: {self.annotations}\\n\" \\\n",
        "               f\"Document Plaintext: {self.document_plaintext}\\n\" \\\n",
        "               f\"Document URL: {self.document_url}\\n\" \\\n",
        "               f\"Answerable: {self.answerable}\"\\\n",
        "               f\"Question Tokenized: {self.question_tokenized}\\n\" \\\n",
        "               f\"Document Tokenized: {self.document_tokenized}\"\n",
        "\n",
        "arabic_train_entries = []\n",
        "for index,row in arabic_train.iterrows():\n",
        "    arabic_train_entries.append(entry(row['question_text'], row['document_title'], row['language'], row['annotations'], row['document_plaintext'], row['document_url']))\n",
        "\n",
        "arabic_validation_entries = []\n",
        "for index,row in arabic_validation.iterrows():\n",
        "    arabic_validation_entries.append(entry(row['question_text'], row['document_title'], row['language'], row['annotations'], row['document_plaintext'], row['document_url']))\n",
        "\n",
        "\n",
        "bengali_train_entries = []\n",
        "for index,row in bengali_train.iterrows():\n",
        "    bengali_train_entries.append(entry(row['question_text'], row['document_title'], row['language'], row['annotations'], row['document_plaintext'], row['document_url']))\n",
        "\n",
        "bengali_validation_entries = []\n",
        "for index,row in bengali_validation.iterrows():\n",
        "    bengali_validation_entries.append(entry(row['question_text'], row['document_title'], row['language'], row['annotations'], row['document_plaintext'], row['document_url']))\n",
        "\n",
        "indo_train_entries = []\n",
        "for index,row in indo_train.iterrows():\n",
        "    indo_train_entries.append(entry(row['question_text'], row['document_title'], row['language'], row['annotations'], row['document_plaintext'], row['document_url']))\n",
        "indo_validation_entries = []\n",
        "for index,row in indo_validation.iterrows():\n",
        "    indo_validation_entries.append(entry(row['question_text'], row['document_title'], row['language'], row['annotations'], row['document_plaintext'], row['document_url']))\n",
        "\n"
      ],
      "metadata": {
        "id": "r16Cdc5wKsMP"
      },
      "execution_count": 7,
      "outputs": []
    },
    {
      "cell_type": "markdown",
      "source": [
        "# Simple classifier (Well in terms of lines of code)"
      ],
      "metadata": {
        "id": "N3jJBpQ3cVKd"
      }
    },
    {
      "cell_type": "code",
      "source": [
        "pipelineModel = pipeline(\"question-answering\", model=\"timpal0l/mdeberta-v3-base-squad2\")\n"
      ],
      "metadata": {
        "id": "jwRUd0vnccHN"
      },
      "execution_count": 8,
      "outputs": []
    },
    {
      "cell_type": "markdown",
      "source": [
        "# Emils Supervised Classifier"
      ],
      "metadata": {
        "id": "WMXz8EcNxB4Q"
      }
    },
    {
      "cell_type": "markdown",
      "source": [
        "### Preproccesing\n"
      ],
      "metadata": {
        "id": "7hM27ogBQOzy"
      }
    },
    {
      "cell_type": "code",
      "source": [
        "def preprocess_function(examples):\n",
        "    questions = [q.strip() for q in examples[\"question_text\"]]\n",
        "    inputs = tokenizer(\n",
        "        questions,\n",
        "        examples[\"document_plaintext\"],\n",
        "        max_length=384,\n",
        "        truncation=\"only_second\",\n",
        "        return_offsets_mapping=True,\n",
        "        padding=\"max_length\",\n",
        "    )\n",
        "\n",
        "    offset_mapping = inputs.pop(\"offset_mapping\")\n",
        "    answers = examples[\"annotations\"]\n",
        "    start_positions = []\n",
        "    end_positions = []\n",
        "\n",
        "    for i, offset in enumerate(offset_mapping):\n",
        "        answer = answers[i]\n",
        "        start_char = answer[\"answer_start\"][0]\n",
        "        end_char = answer[\"answer_start\"][0] + len(answer[\"answer_text\"][0])\n",
        "        sequence_ids = inputs.sequence_ids(i)\n",
        "\n",
        "        # Find the start and end of the context\n",
        "        idx = 0\n",
        "        while sequence_ids[idx] != 1:\n",
        "            idx += 1\n",
        "        context_start = idx\n",
        "        while sequence_ids[idx] == 1:\n",
        "            idx += 1\n",
        "        context_end = idx - 1\n",
        "\n",
        "        # If the answer is not fully inside the context, label it (0, 0)\n",
        "        if offset[context_start][0] > end_char or offset[context_end][1] < start_char:\n",
        "            start_positions.append(0)\n",
        "            end_positions.append(0)\n",
        "        else:\n",
        "            # Otherwise it's the start and end token positions\n",
        "            idx = context_start\n",
        "            while idx <= context_end and offset[idx][0] <= start_char:\n",
        "                idx += 1\n",
        "            start_positions.append(idx - 1)\n",
        "\n",
        "            idx = context_end\n",
        "            while idx >= context_start and offset[idx][1] >= end_char:\n",
        "                idx -= 1\n",
        "            end_positions.append(idx + 1)\n",
        "\n",
        "    inputs[\"start_positions\"] = start_positions\n",
        "    inputs[\"end_positions\"] = end_positions\n",
        "    return inputs"
      ],
      "metadata": {
        "id": "MxzsJkEJQZoX"
      },
      "execution_count": 9,
      "outputs": []
    },
    {
      "cell_type": "markdown",
      "source": [
        "### tokenize the data"
      ],
      "metadata": {
        "id": "HMOZ0KoYh_3a"
      }
    },
    {
      "cell_type": "code",
      "source": [
        "#tokenizerArabic  = AutoTokenizer.from_pretrained(\"timpal0l/mdeberta-v3-base-squad2\")\n",
        "\n",
        "#https://huggingface.co/arabi-elidrisi/ArabicDistilBERT_QA\n",
        "arabic_dataset = dataset.filter(lambda example: example['language'] == 'arabic')\n",
        "arabic_tokenizer = AutoTokenizer.from_pretrained(\"arabi-elidrisi/ArabicDistilBERT_QA\")\n",
        "arabic_tokenized_squad = arabic_dataset.map(preprocess_function, batched=True, remove_columns=arabic_dataset[\"train\"].column_names)\n",
        "arabic_model = AutoModelForQuestionAnswering.from_pretrained(\"arabi-elidrisi/ArabicDistilBERT_QA\")\n",
        "\n",
        "#https://huggingface.co/sagorsarker/mbert-bengali-tydiqa-qa\n",
        "bengali_dataset = dataset.filter(lambda example: example['language'] == 'bengali')\n",
        "bengali_tokenizer = AutoTokenizer.from_pretrained(\"sagorsarker/mbert-bengali-tydiqa-qa\")\n",
        "bengali_tokenized_squad = bengali_dataset.map(preprocess_function, batched=True, remove_columns=bengali_dataset[\"train\"].column_names)\n",
        "bengali_model = AutoModelForQuestionAnswering.from_pretrained(\"sagorsarker/mbert-bengali-tydiqa-qa\")\n",
        "\n",
        "#https://huggingface.co/Rifky/Indobert-QA\n",
        "indo_dataset = dataset.filter(lambda example: example['language'] == 'indonesian')\n",
        "indo_tokenizer = AutoTokenizer.from_pretrained(\"Rifky/Indobert-QA\")\n",
        "indo_tokenized_squad = indo_dataset.map(preprocess_function, batched=True, remove_columns=indo_dataset[\"train\"].column_names)\n",
        "indo_model = AutoModelForQuestionAnswering.from_pretrained(\"Rifky/Indobert-QA\")"
      ],
      "metadata": {
        "colab": {
          "base_uri": "https://localhost:8080/",
          "height": 49,
          "referenced_widgets": [
            "ebd7767ff98c4b86a74cc989f3690617",
            "157a9b3873574302839e2a48fc12edf6",
            "827f7885ba7f4fc29fba41ccbabb6409",
            "fe6d61ddc582411d9eabfac6b454c1ac",
            "61d2c7062e6242fa873d3c50803a7678",
            "a88a763b740c4904a8bb682cff44813e",
            "808af2b9eb9f447885909d78d9197699",
            "34ee7da08af446e880b1fc20dd521a2e",
            "e2965f4e3b094dd4882791275802fe18",
            "dc9daf8dbc2a4226ad54c52c35273690",
            "2732d6ae09984c6fa13b66222d600cd3"
          ]
        },
        "id": "rlTsIgtVegRN",
        "outputId": "19b55b5b-c608-42fa-cbc9-9622535b38e2"
      },
      "execution_count": null,
      "outputs": [
        {
          "output_type": "display_data",
          "data": {
            "text/plain": [
              "Map:   0%|          | 0/29598 [00:00<?, ? examples/s]"
            ],
            "application/vnd.jupyter.widget-view+json": {
              "version_major": 2,
              "version_minor": 0,
              "model_id": "ebd7767ff98c4b86a74cc989f3690617"
            }
          },
          "metadata": {}
        }
      ]
    },
    {
      "cell_type": "code",
      "source": [
        "data_collator = DefaultDataCollator()"
      ],
      "metadata": {
        "id": "YeAMmdbiNr2F"
      },
      "execution_count": null,
      "outputs": []
    },
    {
      "cell_type": "markdown",
      "source": [
        "### Training the model"
      ],
      "metadata": {
        "id": "7kACR147g700"
      }
    },
    {
      "cell_type": "code",
      "source": [
        "training_args = TrainingArguments(\n",
        "    output_dir=\"./results\",\n",
        "    evaluation_strategy=\"epoch\",\n",
        "    learning_rate=32e-5,\n",
        "    per_device_train_batch_size=1,\n",
        "    per_device_eval_batch_size=1,\n",
        "    num_train_epochs=1,\n",
        "    weight_decay=0.00001,\n",
        ")\n",
        "\n",
        "arabic_trainer = Trainer(\n",
        "    model=arabic_model,\n",
        "    args=training_args,\n",
        "    train_dataset=arabic_tokenized_squad[\"train\"],\n",
        "    eval_dataset=arabic_tokenized_squad[\"validation\"],\n",
        "    tokenizer=tokenizer,\n",
        "    data_collator=data_collator,\n",
        ")\n",
        "\n",
        "arabic_trainer.train()\n",
        "\n",
        "\n"
      ],
      "metadata": {
        "id": "b2nfgd3IiZf3"
      },
      "execution_count": null,
      "outputs": []
    },
    {
      "cell_type": "markdown",
      "source": [
        "# Chris' Supervised Classifier"
      ],
      "metadata": {
        "id": "htYbism62ZBK"
      }
    },
    {
      "cell_type": "code",
      "source": [],
      "metadata": {
        "id": "M9Nx_coq2vEi"
      },
      "execution_count": null,
      "outputs": []
    },
    {
      "cell_type": "code",
      "source": [
        "from sentence_transformers import SentenceTransformer\n",
        "from sklearn.linear_model import SGDClassifier\n",
        "from sklearn.metrics import accuracy_score\n",
        "import numpy as np\n",
        "\n",
        "# Get encoding model from SentenceTransformer package\n",
        "# Derived from here: https://huggingface.co/intfloat/multilingual-e5-base\n",
        "model = SentenceTransformer(\"intfloat/multilingual-e5-base\")\n",
        "\n",
        "def train_SGD_classifier(training_data, validation_data, language):\n",
        "    # Encode documents and questions to create inputs of size=768\n",
        "    train_document_e = model.encode([x for x in training_data[\"document_plaintext\"]])\n",
        "    train_question_e = model.encode([x for x in training_data[\"question_text\"]])\n",
        "    valid_document_e = model.encode([x for x in validation_data[\"document_plaintext\"]])\n",
        "    valid_question_e = model.encode([x for x in validation_data[\"question_text\"]])\n",
        "\n",
        "    # Collect labels (true outputs) for each pair\n",
        "    train_labels = [1 if x[\"answer_start\"] != [-1] else 0 for x in training_data[\"annotations\"]]\n",
        "    valid_labels = [1 if x[\"answer_start\"] != [-1] else 0 for x in validation_data[\"annotations\"]]\n",
        "\n",
        "    # Concatenate \"document encoding\" and \"question encoding\" to create combined inputs of size=1536\n",
        "    train_combined_e = [np.concatenate((x[0], x[1]), axis=0) for x in zip(train_document_e, train_question_e)]\n",
        "    valid_combined_e = [np.concatenate((x[0], x[1]), axis=0) for x in zip(valid_document_e, valid_question_e)]\n",
        "\n",
        "    # Train SGD Classifier instance\n",
        "    classifier = SGDClassifier(loss=\"hinge\", penalty=\"l2\", max_iter=100)\n",
        "    classifier.fit(train_combined_e, train_labels)\n",
        "\n",
        "    # Determine classifier accuracy based on true/predicted scores\n",
        "    outputs = classifier.predict(valid_combined_e)\n",
        "    print(\"Accuracy score (\" + language + \"): \" + str(accuracy_score(valid_labels, outputs)))\n",
        "\n",
        "# Test SGD Classifier for each input language\n",
        "for train, valid, lang in [(arabic_train, arabic_validation, \"arabic\"),\n",
        "                           (bengali_train, bengali_validation, \"bengali\"),\n",
        "                           (indo_train, indo_validation, \"indonesian\")]:\n",
        "    train_SGD_classifier(train, valid, lang)"
      ],
      "metadata": {
        "id": "7FMVlhBpnuGE"
      },
      "execution_count": null,
      "outputs": []
    },
    {
      "cell_type": "markdown",
      "source": [
        "![accuracy.png](data:image/png;base64,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)"
      ],
      "metadata": {
        "id": "JSd07_g-kjE7"
      }
    },
    {
      "cell_type": "markdown",
      "source": [
        "# Model 3"
      ],
      "metadata": {
        "id": "lJYj6b0zja52"
      }
    },
    {
      "cell_type": "code",
      "source": [
        "model = KeyedVectors.load_word2vec_format('GoogleNews-vectors-negative300.bin', binary=True)"
      ],
      "metadata": {
        "id": "_2YlL_lQjbo1"
      },
      "execution_count": null,
      "outputs": []
    },
    {
      "cell_type": "code",
      "source": [
        "#Preprocessing\n",
        "def textPreprocessing(text):\n",
        "    text = text.lower() #lower case\n",
        "    #tokenization\n",
        "    tokens = word_tokenize(text)\n",
        "    #remove stop words\n",
        "    stop_words = set(stopwords.words('english'))\n",
        "    #Remove punctuation\n",
        "    stop_words.update(string.punctuation)\n",
        "    filteredTokens = [w for w in tokens if not w in stop_words]\n",
        "    #stemming\n",
        "    ps = PorterStemmer()\n",
        "    stemmedTokens = [ps.stem(w) for w in filteredTokens]\n",
        "    #lemmatization\n",
        "    return stemmedTokens\n",
        "\n",
        "#TF-IDF\n",
        "def textTo_TFIDF(processedTexts):\n",
        "    dictionary = corpora.Dictionary(processedTexts)\n",
        "    #doc2bow = bag of words. list of tuples (word_id, word_frequency)\n",
        "    corpus = [dictionary.doc2bow(text,allow_update=True) for text in processedTexts]\n",
        "\n",
        "    #tfidModel:\n",
        "    model = models.TfidfModel(corpus)\n",
        "    #tfidfModel[corpus[0]]: tfidf vector for the first document\n",
        "    tfidf = model[corpus]\n",
        "    return dictionary, corpus, tfidf"
      ],
      "metadata": {
        "id": "X6MFWpc8jh5k"
      },
      "execution_count": null,
      "outputs": []
    },
    {
      "cell_type": "code",
      "source": [
        "processedOverviews = [movieObject.processedOverview for movieObject in movieObjects]\n",
        "vocab = corpora.Dictionary(processedOverviews)\n",
        "vobabSize = len(vocab)\n",
        "\n",
        "#Setting the TF-IDF vector for each movie object\n",
        "for i in range(len(movieObjects)):\n",
        "    movieObjects[i].TF_IDF = TF_IDF_vectors[i]"
      ],
      "metadata": {
        "id": "5-I0yuwWjw4B"
      },
      "execution_count": null,
      "outputs": []
    }
  ]
}